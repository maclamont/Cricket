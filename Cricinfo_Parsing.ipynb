{
 "cells": [
  {
   "cell_type": "code",
   "execution_count": 1,
   "metadata": {
    "collapsed": true
   },
   "outputs": [],
   "source": [
    "import numpy as np\n",
    "import pandas as pd\n",
    "import yaml\n",
    "import json\n",
    "\n",
    "import matplotlib.pyplot as plt\n",
    "import seaborn as sns\n",
    "%matplotlib inline\n",
    "\n",
    "import csv\n",
    "import lxml.html"
   ]
  },
  {
   "cell_type": "code",
   "execution_count": 3,
   "metadata": {
    "collapsed": false
   },
   "outputs": [],
   "source": [
    "# For test matches from 1990 onwards\n",
    "url1='http://stats.espncricinfo.com/ci/engine/stats/index.html?class=1;orderby=start;spanmin1=01+Jan+1990;spanval1=span;'\n",
    "url2 ='page='\n",
    "url3 ='template=results;type=batting;view=innings'\n",
    "#url5 = ['http://stats.espncricinfo.com/ci/engine/stats/index.html?class=1;orderby=start;template=results;type=batting;view=innings']\n",
    "url5 = [\"http://stats.espncricinfo.com/ci/engine/stats/index.html?class=1;orderby=start;spanmin1=01+Jan+1990;spanval1=span;template=results;type=batting;view=innings;\"]\n",
    "for i in range(1,1750):\n",
    "    url4 = url1 + url2 + str(i) + ';' + url3\n",
    "    url5.append(url4)\n",
    "\n",
    "out = csv.writer(open('test_batsmen.csv','wb',))\n",
    "out.writerow(('Player', 'Country', 'Minutes', 'Runs','Balls Faced','Fours','Sixes','Strike Rate','Inns','Opposition','Ground','Start Date'))\n",
    "for page in url5:\n",
    "    bmen = []\n",
    "    country = []\n",
    "    mins_crease = []\n",
    "    runs = []\n",
    "    balls_faced = []\n",
    "    fours_hit = []\n",
    "    sixes_hit=[]\n",
    "    strike_rate = []\n",
    "    innings = []\n",
    "    opposition = []\n",
    "    ground = []\n",
    "    startdate = []\n",
    "    content = lxml.html.parse(page)\n",
    "    bats = content.xpath('//tr[@class=\"data1\"]/td[1]/a')\n",
    "    ct = content.xpath('//tr[@class=\"data1\"]/td[1]/*')\n",
    "    run = content.xpath('//tr[@class=\"data1\"]/td[2]')\n",
    "    mins = content.xpath('//tr[@class=\"data1\"]/td[3]')\n",
    "    bfs = content.xpath('//tr[@class=\"data1\"]/td[4]')\n",
    "    fours = content.xpath('//tr[@class=\"data1\"]/td[5]')\n",
    "    sixes = content.xpath('//tr[@class=\"data1\"]/td[6]')\n",
    "    strike = content.xpath('//tr[@class=\"data1\"]/td[7]')\n",
    "    inns = content.xpath('//tr[@class=\"data1\"]/td[8]')\n",
    "    oppos = content.xpath('//tr[@class=\"data1\"]/td[10]/a')\n",
    "    grou = content.xpath('//tr[@class=\"data1\"]/td[11]/a')\n",
    "    std = content.xpath('//tr[@class=\"data1\"]/td[12]/b')\n",
    "    batsmen = [bat.text for bat in bats]\n",
    "    cou = [c.tail for c in ct]\n",
    "    rus = [r.text for r in run]\n",
    "    mints = [mint.text for mint in mins]\n",
    "    bf = [bfaced.text for bfaced in bfs]\n",
    "    four = [fs.text for fs in fours]\n",
    "    six = [s.text for s in sixes]\n",
    "    sr = [srt.text for srt in strike]\n",
    "    inngs = [inn.text for inn in inns]\n",
    "    opps = [opp.text for opp in oppos]\n",
    "    grnd = [gr.text for gr in grou]\n",
    "    sdate = [sd.text for sd in std]\n",
    "    bmen.extend(batsmen)\n",
    "    country.extend(cou)\n",
    "    mins_crease.extend(mints)\n",
    "    runs.extend(rus)\n",
    "    balls_faced.extend(bf)\n",
    "    fours_hit.extend(four)\n",
    "    sixes_hit.extend(six)\n",
    "    strike_rate.extend(sr)\n",
    "    innings.extend(inngs)\n",
    "    opposition.extend(opps)\n",
    "    ground.extend(grnd)\n",
    "    startdate.extend(sdate)\n",
    "    zipped = zip(bmen,country,mins_crease,runs,balls_faced,fours_hit,sixes_hit,strike_rate,innings,opposition,ground,startdate)\n",
    "    for row in zipped:\n",
    "        out.writerow(row)\n",
    "        zipped = None"
   ]
  },
  {
   "cell_type": "code",
   "execution_count": null,
   "metadata": {
    "collapsed": true
   },
   "outputs": [],
   "source": []
  }
 ],
 "metadata": {
  "kernelspec": {
   "display_name": "Python 2",
   "language": "python",
   "name": "python2"
  },
  "language_info": {
   "codemirror_mode": {
    "name": "ipython",
    "version": 2
   },
   "file_extension": ".py",
   "mimetype": "text/x-python",
   "name": "python",
   "nbconvert_exporter": "python",
   "pygments_lexer": "ipython2",
   "version": "2.7.10"
  }
 },
 "nbformat": 4,
 "nbformat_minor": 0
}
